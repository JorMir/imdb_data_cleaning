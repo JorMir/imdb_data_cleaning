{
 "cells": [
  {
   "cell_type": "markdown",
   "metadata": {},
   "source": [
    "# IMDB Movie Data\n",
    "\n",
    "### Jordan Miranda"
   ]
  },
  {
   "cell_type": "markdown",
   "metadata": {},
   "source": [
    "In this notebook we'll be looking at a small dataset from IMDB that contains different movies with information about the movie such as genre, duration, country, etc.\n",
    "\n",
    "The goal within this notebook is to clean the dataset and prepare it for possible feature engineering and modelling later on. To clean this data we'll need to address any null values, clean/standardize values across the dataset, and possibly renaming columns to appropriately reflect the data they contain.\n",
    "\n",
    "We'll get started by importing the standard tools used for data manipulation with Python - `pandas` and `NumPy`. \n",
    "If any data visualization is necessary we'll import `Matplotlib` and `seaborn`."
   ]
  },
  {
   "cell_type": "code",
   "execution_count": 1,
   "metadata": {},
   "outputs": [],
   "source": [
    "# importing standard data tools\n",
    "import pandas as pd\n",
    "import numpy as np\n",
    "import matplotlib.pyplot as plt \n",
    "%matplotlib inline\n",
    "import seaborn as sns"
   ]
  },
  {
   "cell_type": "markdown",
   "metadata": {},
   "source": [
    "Next we'll need to import the data we'll be working with."
   ]
  },
  {
   "cell_type": "code",
   "execution_count": 2,
   "metadata": {},
   "outputs": [
    {
     "data": {
      "text/html": [
       "<div>\n",
       "<style scoped>\n",
       "    .dataframe tbody tr th:only-of-type {\n",
       "        vertical-align: middle;\n",
       "    }\n",
       "\n",
       "    .dataframe tbody tr th {\n",
       "        vertical-align: top;\n",
       "    }\n",
       "\n",
       "    .dataframe thead th {\n",
       "        text-align: right;\n",
       "    }\n",
       "</style>\n",
       "<table border=\"1\" class=\"dataframe\">\n",
       "  <thead>\n",
       "    <tr style=\"text-align: right;\">\n",
       "      <th></th>\n",
       "      <th>IMBD title ID</th>\n",
       "      <th>Original titl�</th>\n",
       "      <th>Release year</th>\n",
       "      <th>Genr�</th>\n",
       "      <th>Duration</th>\n",
       "      <th>Country</th>\n",
       "      <th>Content Rating</th>\n",
       "      <th>Director</th>\n",
       "      <th>Unnamed: 8</th>\n",
       "      <th>Income</th>\n",
       "      <th>Votes</th>\n",
       "      <th>Score</th>\n",
       "    </tr>\n",
       "  </thead>\n",
       "  <tbody>\n",
       "    <tr>\n",
       "      <th>0</th>\n",
       "      <td>tt0111161</td>\n",
       "      <td>The Shawshank Redemption</td>\n",
       "      <td>1995-02-10</td>\n",
       "      <td>Drama</td>\n",
       "      <td>142</td>\n",
       "      <td>USA</td>\n",
       "      <td>R</td>\n",
       "      <td>Frank Darabont</td>\n",
       "      <td>NaN</td>\n",
       "      <td>$ 28815245</td>\n",
       "      <td>2.278.845</td>\n",
       "      <td>9.3</td>\n",
       "    </tr>\n",
       "    <tr>\n",
       "      <th>1</th>\n",
       "      <td>tt0068646</td>\n",
       "      <td>The Godfather</td>\n",
       "      <td>09 21 1972</td>\n",
       "      <td>Crime, Drama</td>\n",
       "      <td>175</td>\n",
       "      <td>USA</td>\n",
       "      <td>R</td>\n",
       "      <td>Francis Ford Coppola</td>\n",
       "      <td>NaN</td>\n",
       "      <td>$ 246120974</td>\n",
       "      <td>1.572.674</td>\n",
       "      <td>9.2</td>\n",
       "    </tr>\n",
       "    <tr>\n",
       "      <th>2</th>\n",
       "      <td>tt0468569</td>\n",
       "      <td>The Dark Knight</td>\n",
       "      <td>23 -07-2008</td>\n",
       "      <td>Action, Crime, Drama</td>\n",
       "      <td>152</td>\n",
       "      <td>US</td>\n",
       "      <td>PG-13</td>\n",
       "      <td>Christopher Nolan</td>\n",
       "      <td>NaN</td>\n",
       "      <td>$ 1005455211</td>\n",
       "      <td>2.241.615</td>\n",
       "      <td>9.</td>\n",
       "    </tr>\n",
       "    <tr>\n",
       "      <th>3</th>\n",
       "      <td>tt0071562</td>\n",
       "      <td>The Godfather: Part II</td>\n",
       "      <td>1975-09-25</td>\n",
       "      <td>Crime, Drama</td>\n",
       "      <td>220</td>\n",
       "      <td>USA</td>\n",
       "      <td>R</td>\n",
       "      <td>Francis Ford Coppola</td>\n",
       "      <td>NaN</td>\n",
       "      <td>$ 4o8,035,783</td>\n",
       "      <td>1.098.714</td>\n",
       "      <td>9,.0</td>\n",
       "    </tr>\n",
       "    <tr>\n",
       "      <th>4</th>\n",
       "      <td>tt0110912</td>\n",
       "      <td>Pulp Fiction</td>\n",
       "      <td>1994-10-28</td>\n",
       "      <td>Crime, Drama</td>\n",
       "      <td></td>\n",
       "      <td>USA</td>\n",
       "      <td>R</td>\n",
       "      <td>Quentin Tarantino</td>\n",
       "      <td>NaN</td>\n",
       "      <td>$ 222831817</td>\n",
       "      <td>1.780.147</td>\n",
       "      <td>8,9f</td>\n",
       "    </tr>\n",
       "  </tbody>\n",
       "</table>\n",
       "</div>"
      ],
      "text/plain": [
       "  IMBD title ID            Original titl�  Release year                 Genr�  \\\n",
       "0     tt0111161  The Shawshank Redemption    1995-02-10                 Drama   \n",
       "1     tt0068646             The Godfather    09 21 1972          Crime, Drama   \n",
       "2     tt0468569           The Dark Knight   23 -07-2008  Action, Crime, Drama   \n",
       "3     tt0071562    The Godfather: Part II    1975-09-25          Crime, Drama   \n",
       "4     tt0110912              Pulp Fiction    1994-10-28          Crime, Drama   \n",
       "\n",
       "  Duration Country Content Rating              Director  Unnamed: 8  \\\n",
       "0      142     USA              R        Frank Darabont         NaN   \n",
       "1      175     USA              R  Francis Ford Coppola         NaN   \n",
       "2      152      US          PG-13     Christopher Nolan         NaN   \n",
       "3      220     USA              R  Francis Ford Coppola         NaN   \n",
       "4              USA              R     Quentin Tarantino         NaN   \n",
       "\n",
       "          Income     Votes  Score  \n",
       "0     $ 28815245  2.278.845   9.3  \n",
       "1    $ 246120974  1.572.674   9.2  \n",
       "2   $ 1005455211  2.241.615    9.  \n",
       "3  $ 4o8,035,783  1.098.714  9,.0  \n",
       "4    $ 222831817  1.780.147  8,9f  "
      ]
     },
     "execution_count": 2,
     "metadata": {},
     "output_type": "execute_result"
    }
   ],
   "source": [
    "# Loading in our dataset, including the delimiter used to separate the values\n",
    "movies_df = pd.read_csv(\"data/messy_IMDB_dataset.csv\", sep=\";\")\n",
    "movies_df.head()"
   ]
  },
  {
   "cell_type": "markdown",
   "metadata": {},
   "source": [
    "## Introductory Information on the Dataset\n",
    "\n",
    "Now that we've loaded the dataset, let's gather some basic info about the data such as its shape, datatypes, missing values (if any), and so on."
   ]
  },
  {
   "cell_type": "code",
   "execution_count": 3,
   "metadata": {},
   "outputs": [
    {
     "data": {
      "text/plain": [
       "(101, 12)"
      ]
     },
     "execution_count": 3,
     "metadata": {},
     "output_type": "execute_result"
    }
   ],
   "source": [
    "movies_df.shape"
   ]
  },
  {
   "cell_type": "markdown",
   "metadata": {},
   "source": [
    "This dataset contains 101 rows with 12 columns. Let's look at the names of the columns and their datatypes."
   ]
  },
  {
   "cell_type": "code",
   "execution_count": 4,
   "metadata": {},
   "outputs": [
    {
     "name": "stdout",
     "output_type": "stream",
     "text": [
      "<class 'pandas.core.frame.DataFrame'>\n",
      "RangeIndex: 101 entries, 0 to 100\n",
      "Data columns (total 12 columns):\n",
      " #   Column          Non-Null Count  Dtype  \n",
      "---  ------          --------------  -----  \n",
      " 0   IMBD title ID   100 non-null    object \n",
      " 1   Original titl�  100 non-null    object \n",
      " 2   Release year    100 non-null    object \n",
      " 3   Genr�           100 non-null    object \n",
      " 4   Duration        99 non-null     object \n",
      " 5   Country         100 non-null    object \n",
      " 6   Content Rating  77 non-null     object \n",
      " 7   Director        100 non-null    object \n",
      " 8   Unnamed: 8      0 non-null      float64\n",
      " 9   Income          100 non-null    object \n",
      " 10   Votes          100 non-null    object \n",
      " 11  Score           100 non-null    object \n",
      "dtypes: float64(1), object(11)\n",
      "memory usage: 9.6+ KB\n"
     ]
    }
   ],
   "source": [
    "movies_df.info()"
   ]
  },
  {
   "cell_type": "markdown",
   "metadata": {},
   "source": [
    "## Initial Problems\n",
    "\n",
    "Here are the 11 columns (index excluded) that are in this dataset. Using `.info()` we can spot a few problems with the data already. Below we'll identify some of the initial concerns, with no particular priority (currently).\n",
    "\n",
    "### Datatypes\n",
    "\n",
    "There are 10 columns with a datatype of `object` and 1 column having a datatype of `float`. From looking at the `.head()` we can see that the datatypes for some of these columns shouldn't be `object` but due to poor data entry formatting they've defaulted to `object`. \n",
    "\n",
    "One of the major tasks with this dataset will be to reformat the data entries so that they are consistent across each column and once done, assign the correct datatype to each respective column.\n",
    "\n",
    "### Missing Values\n",
    "\n",
    "Looking across some columns we can see there are a few missing values. The column with the most missing values is `Unnamed: 8` with every value missing, second is `Content Rating` with 34 missing values. Some external research may need to be performed to source Content Ratings or we can impute the values based on EDA.\n",
    "\n",
    "### Inconsistent Data Entry Formatting\n",
    "\n",
    "Looking at `Release year` we can see that the entries in this column vary in their ordering of MM/DD/YYYY. Looking at the `.head()` in the beginning of the dataset we also see inconsistent formatting with `Country`, `Income`, `Votes`, and `Score`. \n",
    "\n",
    "### Inaccurate/Misspelled Column Titles\n",
    "\n",
    "Columns `Original title` and `Genre` contain characters that aren't displayed properly so we'll need to rename them to be readable.  We'll also need to correct the spelling of IMDB in the first column `IMBD title ID`.\n",
    "\n",
    "We can also see the `Release year` column isn't accurately representing the data in the column. The data within the column contains not just the release year but also the day and month, therefore the column's appropriate title would be `Release Date`. This will be the first problem we'll address as it's a simple fix."
   ]
  },
  {
   "cell_type": "markdown",
   "metadata": {},
   "source": [
    "## Cleaning\n",
    "\n",
    "Now that we've identified some of the initial problems, we can start cleaning the data set. If during our cleaning we discover new issues we will make note of the issue and address it later.\n",
    "\n",
    "### Columns\n",
    "\n",
    "As mentioned earlier, fixing the column titles will be one of the simpler fixes so we'll take care of that now.\n"
   ]
  },
  {
   "cell_type": "code",
   "execution_count": 5,
   "metadata": {},
   "outputs": [
    {
     "data": {
      "text/plain": [
       "Index(['IMBD title ID', 'Original titl�', 'Release year', 'Genr�', 'Duration',\n",
       "       'Country', 'Content Rating', 'Director', 'Unnamed: 8', 'Income',\n",
       "       ' Votes ', 'Score'],\n",
       "      dtype='object')"
      ]
     },
     "execution_count": 5,
     "metadata": {},
     "output_type": "execute_result"
    }
   ],
   "source": [
    "# Getting all of the columns\n",
    "movies_df.columns"
   ]
  },
  {
   "cell_type": "code",
   "execution_count": 6,
   "metadata": {},
   "outputs": [],
   "source": [
    "# Renaming the columns mentioned earlier\n",
    "# using .rename and providing a dictionary of the columns that need fixing\n",
    "movies_df.rename(columns={\n",
    "    \"IMBD title ID\": \"IMDB Title ID\",\n",
    "    movies_df.columns[1]: \"Movie Title\",\n",
    "    \"Release year\": \"Release Date\",\n",
    "    movies_df.columns[3]: \"Genre\",\n",
    "    \"Income\": \"Revenue\",\n",
    "    \" Votes \": \"Number of Votes\"}, # Renaming income & votes as well for added clarity\n",
    "inplace=True)"
   ]
  },
  {
   "cell_type": "code",
   "execution_count": 7,
   "metadata": {},
   "outputs": [
    {
     "data": {
      "text/html": [
       "<div>\n",
       "<style scoped>\n",
       "    .dataframe tbody tr th:only-of-type {\n",
       "        vertical-align: middle;\n",
       "    }\n",
       "\n",
       "    .dataframe tbody tr th {\n",
       "        vertical-align: top;\n",
       "    }\n",
       "\n",
       "    .dataframe thead th {\n",
       "        text-align: right;\n",
       "    }\n",
       "</style>\n",
       "<table border=\"1\" class=\"dataframe\">\n",
       "  <thead>\n",
       "    <tr style=\"text-align: right;\">\n",
       "      <th></th>\n",
       "      <th>IMDB Title ID</th>\n",
       "      <th>Movie Title</th>\n",
       "      <th>Release Date</th>\n",
       "      <th>Genre</th>\n",
       "      <th>Duration</th>\n",
       "      <th>Country</th>\n",
       "      <th>Content Rating</th>\n",
       "      <th>Director</th>\n",
       "      <th>Unnamed: 8</th>\n",
       "      <th>Revenue</th>\n",
       "      <th>Number of Votes</th>\n",
       "      <th>Score</th>\n",
       "    </tr>\n",
       "  </thead>\n",
       "  <tbody>\n",
       "    <tr>\n",
       "      <th>75</th>\n",
       "      <td>tt0105236</td>\n",
       "      <td>Reservoir Dogs</td>\n",
       "      <td>1992-10-09</td>\n",
       "      <td>Crime, Drama, Thriller</td>\n",
       "      <td>99</td>\n",
       "      <td>USA</td>\n",
       "      <td>R</td>\n",
       "      <td>Quentin Tarantino</td>\n",
       "      <td>NaN</td>\n",
       "      <td>$ 2889963</td>\n",
       "      <td>896.551</td>\n",
       "      <td>7.9</td>\n",
       "    </tr>\n",
       "    <tr>\n",
       "      <th>8</th>\n",
       "      <td>tt1375666</td>\n",
       "      <td>Inception</td>\n",
       "      <td>2010-09-24</td>\n",
       "      <td>Action, Adventure, Sci-Fi</td>\n",
       "      <td>148</td>\n",
       "      <td>USA</td>\n",
       "      <td>PG-13</td>\n",
       "      <td>Christopher Nolan</td>\n",
       "      <td>NaN</td>\n",
       "      <td>$ 869784991</td>\n",
       "      <td>2.002.816</td>\n",
       "      <td>8..8</td>\n",
       "    </tr>\n",
       "    <tr>\n",
       "      <th>14</th>\n",
       "      <td>tt0133093</td>\n",
       "      <td>The Matrix</td>\n",
       "      <td>1999-05-07</td>\n",
       "      <td>Action, Sci-Fi</td>\n",
       "      <td>NaN</td>\n",
       "      <td>USA</td>\n",
       "      <td>R</td>\n",
       "      <td>Lana Wachowski, Lilly Wachowski</td>\n",
       "      <td>NaN</td>\n",
       "      <td>$ 465718588</td>\n",
       "      <td>1.632.315</td>\n",
       "      <td>++8.7</td>\n",
       "    </tr>\n",
       "  </tbody>\n",
       "</table>\n",
       "</div>"
      ],
      "text/plain": [
       "   IMDB Title ID     Movie Title Release Date                      Genre  \\\n",
       "75     tt0105236  Reservoir Dogs   1992-10-09     Crime, Drama, Thriller   \n",
       "8      tt1375666       Inception   2010-09-24  Action, Adventure, Sci-Fi   \n",
       "14     tt0133093      The Matrix   1999-05-07             Action, Sci-Fi   \n",
       "\n",
       "   Duration Country Content Rating                         Director  \\\n",
       "75       99     USA              R                Quentin Tarantino   \n",
       "8       148     USA          PG-13                Christopher Nolan   \n",
       "14      NaN     USA              R  Lana Wachowski, Lilly Wachowski   \n",
       "\n",
       "    Unnamed: 8      Revenue Number of Votes  Score  \n",
       "75         NaN    $ 2889963         896.551    7.9  \n",
       "8          NaN  $ 869784991       2.002.816   8..8  \n",
       "14         NaN  $ 465718588       1.632.315  ++8.7  "
      ]
     },
     "execution_count": 7,
     "metadata": {},
     "output_type": "execute_result"
    }
   ],
   "source": [
    "# Checking to see the renaming was done properly\n",
    "movies_df.sample(3)\n",
    "# Looks good!"
   ]
  },
  {
   "cell_type": "markdown",
   "metadata": {},
   "source": [
    "We've successfully renamed our problem columns. However, we do see there's 1 column leftover named `Unnamed: 8`. The entire column consists of null values and it's hard to identify without external context what this column would've been in this dataset. We're likely going to drop this column as there's no way we'll be able to impute any values into this column.\n",
    "\n",
    "Before dropping we'll confirm the column is full of null values."
   ]
  },
  {
   "cell_type": "code",
   "execution_count": 8,
   "metadata": {},
   "outputs": [
    {
     "data": {
      "text/plain": [
       "True"
      ]
     },
     "execution_count": 8,
     "metadata": {},
     "output_type": "execute_result"
    }
   ],
   "source": [
    "# Finding number of null values in the unnamed column\n",
    "unnamed_nulls = movies_df[\"Unnamed: 8\"].isnull().sum()\n",
    "\n",
    "# Taking the number of rows in the dataset\n",
    "num_of_rows = movies_df.shape[0]\n",
    "\n",
    "# If this returns True, all values in the unnamed column are null\n",
    "unnamed_nulls == num_of_rows"
   ]
  },
  {
   "cell_type": "markdown",
   "metadata": {},
   "source": [
    "We've double checked the column consists of all Null values. Let's drop the column."
   ]
  },
  {
   "cell_type": "code",
   "execution_count": 9,
   "metadata": {},
   "outputs": [
    {
     "data": {
      "text/html": [
       "<div>\n",
       "<style scoped>\n",
       "    .dataframe tbody tr th:only-of-type {\n",
       "        vertical-align: middle;\n",
       "    }\n",
       "\n",
       "    .dataframe tbody tr th {\n",
       "        vertical-align: top;\n",
       "    }\n",
       "\n",
       "    .dataframe thead th {\n",
       "        text-align: right;\n",
       "    }\n",
       "</style>\n",
       "<table border=\"1\" class=\"dataframe\">\n",
       "  <thead>\n",
       "    <tr style=\"text-align: right;\">\n",
       "      <th></th>\n",
       "      <th>IMDB Title ID</th>\n",
       "      <th>Movie Title</th>\n",
       "      <th>Release Date</th>\n",
       "      <th>Genre</th>\n",
       "      <th>Duration</th>\n",
       "      <th>Country</th>\n",
       "      <th>Content Rating</th>\n",
       "      <th>Director</th>\n",
       "      <th>Revenue</th>\n",
       "      <th>Number of Votes</th>\n",
       "      <th>Score</th>\n",
       "    </tr>\n",
       "  </thead>\n",
       "  <tbody>\n",
       "    <tr>\n",
       "      <th>38</th>\n",
       "      <td>tt0114814</td>\n",
       "      <td>The Usual Suspects</td>\n",
       "      <td>1995-11-30</td>\n",
       "      <td>Crime, Mystery, Thriller</td>\n",
       "      <td>106</td>\n",
       "      <td>USA</td>\n",
       "      <td>R</td>\n",
       "      <td>Bryan Singer</td>\n",
       "      <td>$ 23341568</td>\n",
       "      <td>968.947</td>\n",
       "      <td>8.4</td>\n",
       "    </tr>\n",
       "    <tr>\n",
       "      <th>56</th>\n",
       "      <td>tt4154756</td>\n",
       "      <td>Avengers: Infinity War</td>\n",
       "      <td>2018-04-25</td>\n",
       "      <td>Action, Adventure, Sci-Fi</td>\n",
       "      <td>149</td>\n",
       "      <td>USA</td>\n",
       "      <td>NaN</td>\n",
       "      <td>Anthony Russo, Joe Russo</td>\n",
       "      <td>$ 2048359754</td>\n",
       "      <td>796.486</td>\n",
       "      <td>8.2</td>\n",
       "    </tr>\n",
       "    <tr>\n",
       "      <th>89</th>\n",
       "      <td>tt0033467</td>\n",
       "      <td>Citizen Kane</td>\n",
       "      <td>1948-11-25</td>\n",
       "      <td>Drama, Mystery</td>\n",
       "      <td>119</td>\n",
       "      <td>USA</td>\n",
       "      <td>NaN</td>\n",
       "      <td>Orson Welles</td>\n",
       "      <td>$ 1594107</td>\n",
       "      <td>389.322</td>\n",
       "      <td>7.6</td>\n",
       "    </tr>\n",
       "  </tbody>\n",
       "</table>\n",
       "</div>"
      ],
      "text/plain": [
       "   IMDB Title ID             Movie Title Release Date  \\\n",
       "38     tt0114814      The Usual Suspects   1995-11-30   \n",
       "56     tt4154756  Avengers: Infinity War   2018-04-25   \n",
       "89     tt0033467            Citizen Kane   1948-11-25   \n",
       "\n",
       "                        Genre Duration Country Content Rating  \\\n",
       "38   Crime, Mystery, Thriller      106     USA              R   \n",
       "56  Action, Adventure, Sci-Fi      149     USA            NaN   \n",
       "89             Drama, Mystery      119     USA            NaN   \n",
       "\n",
       "                    Director       Revenue Number of Votes Score  \n",
       "38              Bryan Singer    $ 23341568         968.947   8.4  \n",
       "56  Anthony Russo, Joe Russo  $ 2048359754         796.486   8.2  \n",
       "89              Orson Welles     $ 1594107         389.322   7.6  "
      ]
     },
     "execution_count": 9,
     "metadata": {},
     "output_type": "execute_result"
    }
   ],
   "source": [
    "# Dropping the column\n",
    "movies_df.drop(columns=\"Unnamed: 8\", inplace=True)\n",
    "\n",
    "# Checking to see the drop was done successfully\n",
    "movies_df.sample(3)\n",
    "# Looks good!"
   ]
  },
  {
   "cell_type": "markdown",
   "metadata": {},
   "source": [
    "We've successfully dropped the unnamed column. Let's continue on.\n",
    "\n",
    "***Work in progress***"
   ]
  }
 ],
 "metadata": {
  "interpreter": {
   "hash": "717ffbdd8bf53258219b6d950fcd33247843a1674a8d30f5dd94694760bb27a2"
  },
  "kernelspec": {
   "display_name": "Python 3.8.8 64-bit ('base': conda)",
   "language": "python",
   "name": "python3"
  },
  "language_info": {
   "codemirror_mode": {
    "name": "ipython",
    "version": 3
   },
   "file_extension": ".py",
   "mimetype": "text/x-python",
   "name": "python",
   "nbconvert_exporter": "python",
   "pygments_lexer": "ipython3",
   "version": "3.8.8"
  },
  "orig_nbformat": 4
 },
 "nbformat": 4,
 "nbformat_minor": 2
}
